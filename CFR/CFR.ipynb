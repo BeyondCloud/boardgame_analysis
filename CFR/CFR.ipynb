{
 "cells": [
  {
   "cell_type": "code",
   "execution_count": 2,
   "metadata": {},
   "outputs": [
    {
     "name": "stdout",
     "output_type": "stream",
     "text": [
      "[3.558382638266356e-09, 9.380665758621118e-10, 1.788246457104589e-08, 0.9999629971678955, 0.9999999999999987]\n",
      "[6.423819761215262e-10, 7.677924283248825e-10, 2.009370106425513e-08, 0.9998774774996924, 0.9999999999999987]\n"
     ]
    }
   ],
   "source": [
    "from copy import copy as cp\n",
    "from random import shuffle as shfl\n",
    "import random\n",
    "import math\n",
    "def sigmoid(x):\n",
    "    return 1 / (1 + math.exp(-x))\n",
    "def get_new_prob(old_prob,value):\n",
    "    return old_prob + 0.02*value*(old_prob)*(1-old_prob)\n",
    "# def get_new_prob(old_prob):\n",
    "#     return old_prob + 0.02*value*(old_prob)*(1-old_prob)\n",
    "\n",
    "def get_act(call_prob):\n",
    "    rnd = random.random()\n",
    "    if call_prob>rnd:\n",
    "        return 'c'\n",
    "    else:\n",
    "        return 'f'\n",
    "\n",
    "a_c = [0.5]*5\n",
    "b_c = [0.5]*5\n",
    "\n",
    "crd = [0,1,2,3,4]\n",
    "for i in range(10000):\n",
    "    shfl(crd)\n",
    "    p1_act = get_act(a_c[crd[0]])\n",
    "    p2_act = get_act(b_c[crd[1]])\n",
    "\n",
    "    if p1_act == 'c':\n",
    "        if p2_act=='c':\n",
    "            if crd[0]>crd[1]:\n",
    "                a_c[crd[0]] = get_new_prob(a_c[crd[0]],2)\n",
    "                b_c[crd[1]] = get_new_prob(b_c[crd[1]],-2)\n",
    "            else:\n",
    "                a_c[crd[0]] = get_new_prob(a_c[crd[0]],-2)\n",
    "                b_c[crd[1]] = get_new_prob(b_c[crd[1]],2)\n",
    "        else:\n",
    "                a_c[crd[0]] = get_new_prob(a_c[crd[0]],1)\n",
    "                b_c[crd[1]] = get_new_prob(b_c[crd[1]],-1)\n",
    "\n",
    "    else:\n",
    "        if p2_act=='c':\n",
    "                a_c[crd[0]] = get_new_prob(a_c[crd[0]],-1)\n",
    "                b_c[crd[1]] = get_new_prob(b_c[crd[1]],1) \n",
    "\n",
    "\n",
    "print(a_c)\n",
    "print(b_c)\n",
    "\n"
   ]
  },
  {
   "cell_type": "code",
   "execution_count": 39,
   "metadata": {},
   "outputs": [
    {
     "name": "stdout",
     "output_type": "stream",
     "text": [
      "-1082\n"
     ]
    }
   ],
   "source": [
    "# real game\n",
    "a_c = [0.0 ,0.363 ,0.568 ,0.743 ,1.0 ]\n",
    "b_c = [0,0,1,1,1]\n",
    "a=0\n",
    "for i in range(10000):\n",
    "    shfl(crd)\n",
    "    a_act = get_act(a_c[crd[0]])\n",
    "    b_act = get_act(b_c[crd[1]])\n",
    "\n",
    "    if a_act == 'c':\n",
    "        if b_act=='c':\n",
    "            if crd[0]>crd[1]:\n",
    "                a+=2\n",
    "            else:\n",
    "                a-=2\n",
    "        else:\n",
    "                a+=1\n",
    "\n",
    "    else:\n",
    "        if b_act=='c':\n",
    "                a-=1\n",
    "print(a)"
   ]
  },
  {
   "cell_type": "code",
   "execution_count": 36,
   "metadata": {},
   "outputs": [
    {
     "name": "stdout",
     "output_type": "stream",
     "text": [
      "-0.10399999999999998\n"
     ]
    }
   ],
   "source": [
    "# EV\n",
    "a_EV = 0\n",
    "a_c = [0.0 ,0.363 ,0.568 ,0.743 ,1.0 ]\n",
    "b_c = [0,0,1,1,1]\n",
    "for i in range(5):\n",
    "    for j in range(5):\n",
    "        if i>j:\n",
    "            a_EV += a_c[i]*b_c[j]*2\n",
    "        elif j>i:\n",
    "            a_EV += a_c[i]*b_c[j]*(-2)\n",
    "        a_EV+= -(1-a_c[i])*b_c[j]+a_c[i]*(1-b_c[j])\n",
    "a_EV = a_EV/20  #P(5,2) possible game state\n",
    "print(a_EV)"
   ]
  },
  {
   "cell_type": "code",
   "execution_count": 4,
   "metadata": {},
   "outputs": [
    {
     "name": "stdout",
     "output_type": "stream",
     "text": [
      "1\n"
     ]
    }
   ],
   "source": [
    "def modi(x):\n",
    "    x+=1\n",
    "class A():\n",
    "    def __init__(self):\n",
    "        self.c=[1]*5\n",
    "a = A()\n",
    "modi(a.c[0])\n",
    "print(a.c[0])"
   ]
  },
  {
   "cell_type": "code",
   "execution_count": 38,
   "metadata": {},
   "outputs": [
    {
     "name": "stdout",
     "output_type": "stream",
     "text": [
      "0.0 ,0.36 ,0.564 ,0.744 ,1.0 ,\n",
      "\n"
     ]
    }
   ],
   "source": [
    "from copy import copy as cp\n",
    "from random import shuffle as shfl\n",
    "import random\n",
    "import math\n",
    "\n",
    "def get_act(call_prob):\n",
    "    rnd = random.random()\n",
    "    if call_prob>rnd:\n",
    "        return 'c'\n",
    "    else:\n",
    "        return 'f'\n",
    "class Ply():\n",
    "    def __init__(self):\n",
    "        self.c=[1]*5\n",
    "        self.f=[1]*5\n",
    "        \n",
    "    def get_call_prob(self,crd):\n",
    "        return self.c[crd]/(self.c[crd]+self.f[crd])\n",
    "    def p_prob(self):\n",
    "        for i in range(5):\n",
    "            print(round(self.get_call_prob(i),3),',', end=\"\")\n",
    "        print(\"\\n\")\n",
    "        \n",
    "p1 = Ply()\n",
    "p2 = Ply()\n",
    "crd = [0,1,2,3,4]\n",
    "for i in range(100000):\n",
    "    shfl(crd)\n",
    "    p1_act = get_act(p1.get_call_prob(crd[0]))\n",
    "    p2_act = get_act(p2.get_call_prob(crd[1]))\n",
    "\n",
    "    if p1_act == 'c':\n",
    "        if p2_act=='c':\n",
    "            if crd[0]>crd[1]:\n",
    "                p1.f[crd[1]]+=1\n",
    "            else:\n",
    "                p1.f[crd[0]]+=1\n",
    "        else:\n",
    "            if crd[0]<crd[1]:\n",
    "                p1.c[crd[1]]+=3\n",
    "\n",
    "    else:\n",
    "        if p2_act=='c':\n",
    "            if crd[0]>crd[1]:\n",
    "                p1.c[crd[0]]+=3\n",
    "\n",
    "                \n",
    "p1.p_prob()\n",
    "\n",
    "\n"
   ]
  },
  {
   "cell_type": "code",
   "execution_count": 11,
   "metadata": {},
   "outputs": [
    {
     "ename": "TypeError",
     "evalue": "'int' object is not subscriptable",
     "output_type": "error",
     "traceback": [
      "\u001b[1;31m---------------------------------------------------------------------------\u001b[0m",
      "\u001b[1;31mTypeError\u001b[0m                                 Traceback (most recent call last)",
      "\u001b[1;32m<ipython-input-11-42cbb89cd3bd>\u001b[0m in \u001b[0;36m<module>\u001b[1;34m()\u001b[0m\n\u001b[1;32m----> 1\u001b[1;33m \u001b[0ma\u001b[0m \u001b[1;33m=\u001b[0m \u001b[1;33m[\u001b[0m\u001b[1;33m[\u001b[0m\u001b[1;36m1\u001b[0m\u001b[1;33m]\u001b[0m\u001b[1;33m*\u001b[0m\u001b[1;36m5\u001b[0m \u001b[1;33m[\u001b[0m\u001b[1;36m1\u001b[0m\u001b[1;33m]\u001b[0m\u001b[1;33m*\u001b[0m\u001b[1;36m5\u001b[0m\u001b[1;33m]\u001b[0m\u001b[1;33m\u001b[0m\u001b[0m\n\u001b[0m",
      "\u001b[1;31mTypeError\u001b[0m: 'int' object is not subscriptable"
     ]
    }
   ],
   "source": [
    "a = []"
   ]
  }
 ],
 "metadata": {
  "kernelspec": {
   "display_name": "Python 3",
   "language": "python",
   "name": "python3"
  },
  "language_info": {
   "codemirror_mode": {
    "name": "ipython",
    "version": 3
   },
   "file_extension": ".py",
   "mimetype": "text/x-python",
   "name": "python",
   "nbconvert_exporter": "python",
   "pygments_lexer": "ipython3",
   "version": "3.6.1"
  }
 },
 "nbformat": 4,
 "nbformat_minor": 2
}
